{
 "cells": [
  {
   "cell_type": "markdown",
   "id": "1c046d56",
   "metadata": {},
   "source": [
    "# Import Libraries"
   ]
  },
  {
   "cell_type": "code",
   "execution_count": 2,
   "id": "c5c52d4c-cc81-42b0-bbab-412b778c2eed",
   "metadata": {},
   "outputs": [],
   "source": [
    "import matplotlib.pyplot as plt\n",
    "import pandas as pd\n",
    "import numpy as np\n",
    "from sklearn.linear_model import Perceptron"
   ]
  },
  {
   "cell_type": "markdown",
   "id": "bf8afe5b",
   "metadata": {},
   "source": [
    "# Problem 1a"
   ]
  },
  {
   "cell_type": "code",
   "execution_count": 72,
   "id": "ccac1d59-245d-448d-a7ce-09cefe31c041",
   "metadata": {},
   "outputs": [
    {
     "name": "stdout",
     "output_type": "stream",
     "text": [
      "-0.7008289374529012\n"
     ]
    },
    {
     "data": {
      "image/png": "[encoded data removed]",
      "text/plain": [
       "<Figure size 432x288 with 1 Axes>"
      ]
     },
     "metadata": {
      "needs_background": "light"
     },
     "output_type": "display_data"
    }
   ],
   "source": [
    "# load data\n",
    "df = pd.read_csv(\"20sample_d2.csv\", header = None)\n",
    "X = df.loc[:,0:1] # the columns are unnamed\n",
    "y = df.loc[:,2]\n",
    "\n",
    "plt.plot(X[0][y == 1],X[1][y == 1], 'g^')\n",
    "plt.plot(X[0][y == -1],X[1][y == -1], 'bs')\n",
    "\n",
    "slope = -0.1860/0.2654\n",
    "b = 0\n",
    "first_point = slope * -4 + b\n",
    "second_point = slope * 4 + b\n",
    "plt.plot([-4, 4], [first_point, second_point])\n",
    "print(slope)"
   ]
  },
  {
   "cell_type": "code",
   "execution_count": 69,
   "id": "8d16c2e8",
   "metadata": {},
   "outputs": [
    {
     "name": "stdout",
     "output_type": "stream",
     "text": [
      "(1, 2)\n",
      "(20, 2)\n",
      "[-1.2628  3.8867]\n"
     ]
    },
    {
     "data": {
      "text/plain": [
       "[<matplotlib.lines.Line2D at 0x7fbd67195220>]"
      ]
     },
     "execution_count": 69,
     "metadata": {},
     "output_type": "execute_result"
    },
    {
     "data": {
      "image/png": "[encoded data removed]",
      "text/plain": [
       "<Figure size 432x288 with 1 Axes>"
      ]
     },
     "metadata": {
      "needs_background": "light"
     },
     "output_type": "display_data"
    }
   ],
   "source": [
    "w = np.array([[0.1860, 0.2654]])\n",
    "np_df = X.to_numpy()\n",
    "\n",
    "print(np.shape(w))\n",
    "print(np.shape(np_df))\n",
    "print(np_df[0])\n",
    "res = []\n",
    "for i in range(len(np_df)):\n",
    "    res.append(np.matmul(w, np_df[i]))\n",
    "\n",
    "res = pd.DataFrame(np.array(res)).loc[:,0]\n",
    "plt.plot(X[0][res >= 0],X[1][res >= 0], 'g^')\n",
    "plt.plot(X[0][res < 0],X[1][res < 0], 'bs')"
   ]
  },
  {
   "cell_type": "markdown",
   "id": "1dc46ce0",
   "metadata": {},
   "source": [
    "# Problem 1b"
   ]
  },
  {
   "cell_type": "code",
   "execution_count": 70,
   "id": "54aeb703",
   "metadata": {},
   "outputs": [
    {
     "data": {
      "text/plain": [
       "1.0"
      ]
     },
     "execution_count": 70,
     "metadata": {},
     "output_type": "execute_result"
    }
   ],
   "source": [
    "clf = Perceptron(tol=1e-3, random_state=0)\n",
    "clf.fit(X, y)\n",
    "Perceptron()\n",
    "clf.score(X,y)"
   ]
  },
  {
   "cell_type": "code",
   "execution_count": 36,
   "id": "84aa43f0",
   "metadata": {},
   "outputs": [
    {
     "data": {
      "text/plain": [
       "7"
      ]
     },
     "execution_count": 36,
     "metadata": {},
     "output_type": "execute_result"
    }
   ],
   "source": [
    "clf.n_iter_"
   ]
  },
  {
   "cell_type": "code",
   "execution_count": 37,
   "id": "fec9d6d1",
   "metadata": {},
   "outputs": [
    {
     "data": {
      "text/plain": [
       "array([[1.2985 , 1.86957]])"
      ]
     },
     "execution_count": 37,
     "metadata": {},
     "output_type": "execute_result"
    }
   ],
   "source": [
    "clf.coef_"
   ]
  },
  {
   "cell_type": "code",
   "execution_count": 38,
   "id": "de8146cb",
   "metadata": {},
   "outputs": [
    {
     "data": {
      "text/plain": [
       "array([-1,  1])"
      ]
     },
     "execution_count": 38,
     "metadata": {},
     "output_type": "execute_result"
    }
   ],
   "source": [
    "clf.classes_"
   ]
  },
  {
   "cell_type": "code",
   "execution_count": 39,
   "id": "2d40c844",
   "metadata": {},
   "outputs": [
    {
     "data": {
      "text/plain": [
       "array([0.])"
      ]
     },
     "execution_count": 39,
     "metadata": {},
     "output_type": "execute_result"
    }
   ],
   "source": [
    "clf.intercept_"
   ]
  },
  {
   "cell_type": "code",
   "execution_count": 71,
   "id": "89b1619e",
   "metadata": {},
   "outputs": [
    {
     "name": "stdout",
     "output_type": "stream",
     "text": [
      "-0.6945447348855619\n"
     ]
    },
    {
     "data": {
      "image/png": "[encoded data removed]",
      "text/plain": [
       "<Figure size 432x288 with 1 Axes>"
      ]
     },
     "metadata": {
      "needs_background": "light"
     },
     "output_type": "display_data"
    }
   ],
   "source": [
    "plt.plot(X[0][y == 1],X[1][y == 1], 'g^')\n",
    "plt.plot(X[0][y == -1],X[1][y == -1], 'bs')\n",
    "\n",
    "slope = - clf.coef_[0][0] / clf.coef_[0][1]\n",
    "b = clf.intercept_[0]\n",
    "first_point = slope * -4 + b\n",
    "second_point = slope * 4 + b\n",
    "plt.plot([-4, 4], [first_point, second_point])\n",
    "print(slope)"
   ]
  },
  {
   "cell_type": "markdown",
   "id": "39915d67",
   "metadata": {},
   "source": [
    "# Problem 1c"
   ]
  },
  {
   "cell_type": "code",
   "execution_count": 10,
   "id": "babd27ac",
   "metadata": {},
   "outputs": [
    {
     "data": {
      "text/plain": [
       "[<matplotlib.lines.Line2D at 0x7fbd68ef0f10>]"
      ]
     },
     "execution_count": 10,
     "metadata": {},
     "output_type": "execute_result"
    },
    {
     "data": {
      "image/png": "[encoded data removed]",
      "text/plain": [
       "<Figure size 432x288 with 1 Axes>"
      ]
     },
     "metadata": {
      "needs_background": "light"
     },
     "output_type": "display_data"
    }
   ],
   "source": [
    "# load data\n",
    "df = pd.read_csv(\"2_20sample_d2.csv\", header = None)\n",
    "X = df.loc[:,0:1] # the columns are unnamed\n",
    "y = df.loc[:,2]\n",
    "\n",
    "plt.plot(X[0][y == 1],X[1][y == 1], 'g^')\n",
    "plt.plot(X[0][y == -1],X[1][y == -1], 'bs')"
   ]
  },
  {
   "cell_type": "code",
   "execution_count": 11,
   "id": "0b33d190",
   "metadata": {},
   "outputs": [
    {
     "data": {
      "text/plain": [
       "1.0"
      ]
     },
     "execution_count": 11,
     "metadata": {},
     "output_type": "execute_result"
    }
   ],
   "source": [
    "clf = Perceptron(tol=1e-3, random_state=0)\n",
    "clf.fit(X, y)\n",
    "Perceptron()\n",
    "clf.score(X,y)"
   ]
  },
  {
   "cell_type": "code",
   "execution_count": 12,
   "id": "6621e537",
   "metadata": {},
   "outputs": [
    {
     "data": {
      "text/plain": [
       "9"
      ]
     },
     "execution_count": 12,
     "metadata": {},
     "output_type": "execute_result"
    }
   ],
   "source": [
    "clf.n_iter_"
   ]
  },
  {
   "cell_type": "code",
   "execution_count": 13,
   "id": "ecb26b57",
   "metadata": {},
   "outputs": [
    {
     "data": {
      "text/plain": [
       "array([[0.61692, 7.22629]])"
      ]
     },
     "execution_count": 13,
     "metadata": {},
     "output_type": "execute_result"
    }
   ],
   "source": [
    "clf.coef_"
   ]
  },
  {
   "cell_type": "markdown",
   "id": "e4745a6a",
   "metadata": {},
   "source": [
    "# Problem 1d"
   ]
  },
  {
   "cell_type": "code",
   "execution_count": 14,
   "id": "d42093f0",
   "metadata": {},
   "outputs": [
    {
     "data": {
      "text/plain": [
       "[<matplotlib.lines.Line2D at 0x7fbd68e69b20>]"
      ]
     },
     "execution_count": 14,
     "metadata": {},
     "output_type": "execute_result"
    },
    {
     "data": {
      "image/png": "[encoded data removed]",
      "text/plain": [
       "<Figure size 432x288 with 1 Axes>"
      ]
     },
     "metadata": {
      "needs_background": "light"
     },
     "output_type": "display_data"
    }
   ],
   "source": [
    "# load data\n",
    "df = pd.read_csv(\"1000sample_d2.csv\", header = None)\n",
    "X = df.loc[:,0:1] # the columns are unnamed\n",
    "y = df.loc[:,2]\n",
    "\n",
    "plt.plot(X[0][y == 1],X[1][y == 1], 'g^')\n",
    "plt.plot(X[0][y == -1],X[1][y == -1], 'bs')"
   ]
  },
  {
   "cell_type": "code",
   "execution_count": 15,
   "id": "6a3d0abb",
   "metadata": {},
   "outputs": [
    {
     "data": {
      "text/plain": [
       "0.99"
      ]
     },
     "execution_count": 15,
     "metadata": {},
     "output_type": "execute_result"
    }
   ],
   "source": [
    "clf = Perceptron(tol=1e-3, random_state=0)\n",
    "clf.fit(X, y)\n",
    "Perceptron()\n",
    "clf.score(X,y)"
   ]
  },
  {
   "cell_type": "code",
   "execution_count": 16,
   "id": "a8d93de5",
   "metadata": {},
   "outputs": [
    {
     "data": {
      "text/plain": [
       "16"
      ]
     },
     "execution_count": 16,
     "metadata": {},
     "output_type": "execute_result"
    }
   ],
   "source": [
    "clf.n_iter_"
   ]
  },
  {
   "cell_type": "code",
   "execution_count": 17,
   "id": "d3dc04b1",
   "metadata": {},
   "outputs": [
    {
     "data": {
      "text/plain": [
       "array([[-1299.30934,  -183.906  ]])"
      ]
     },
     "execution_count": 17,
     "metadata": {},
     "output_type": "execute_result"
    }
   ],
   "source": [
    "clf.coef_"
   ]
  },
  {
   "cell_type": "markdown",
   "id": "519e4125",
   "metadata": {},
   "source": [
    "# Problem 1e"
   ]
  },
  {
   "cell_type": "code",
   "execution_count": 18,
   "id": "c37fac59",
   "metadata": {},
   "outputs": [],
   "source": [
    "# load data\n",
    "df = pd.read_csv(\"1000sample_d10.csv\", header = None)\n",
    "X = df.loc[:,0:9] # the columns are unnamed\n",
    "y = df.loc[:,10]"
   ]
  },
  {
   "cell_type": "code",
   "execution_count": 30,
   "id": "9acebd52",
   "metadata": {},
   "outputs": [
    {
     "data": {
      "text/plain": [
       "0.977"
      ]
     },
     "execution_count": 30,
     "metadata": {},
     "output_type": "execute_result"
    }
   ],
   "source": [
    "clf = Perceptron(tol=1e-3, random_state=0)\n",
    "clf.fit(X, y)\n",
    "Perceptron()\n",
    "clf.score(X,y)"
   ]
  },
  {
   "cell_type": "code",
   "execution_count": 31,
   "id": "b857a2c7",
   "metadata": {},
   "outputs": [
    {
     "data": {
      "text/plain": [
       "24"
      ]
     },
     "execution_count": 31,
     "metadata": {},
     "output_type": "execute_result"
    }
   ],
   "source": [
    "clf.n_iter_"
   ]
  },
  {
   "cell_type": "code",
   "execution_count": 21,
   "id": "891c479e",
   "metadata": {},
   "outputs": [
    {
     "data": {
      "text/plain": [
       "array([[ 25.13692073,  29.116954  , 115.4927033 ,  22.130051  ,\n",
       "        120.040915  , -50.300309  , -39.9160587 ,  30.469952  ,\n",
       "          0.4267497 ,  -0.844576  ]])"
      ]
     },
     "execution_count": 21,
     "metadata": {},
     "output_type": "execute_result"
    }
   ],
   "source": [
    "clf.coef_"
   ]
  },
  {
   "cell_type": "markdown",
   "id": "b54a7acb",
   "metadata": {},
   "source": [
    "# Problem 1f"
   ]
  },
  {
   "cell_type": "code",
   "execution_count": 22,
   "id": "4c346ffb",
   "metadata": {},
   "outputs": [],
   "source": [
    "# some code"
   ]
  },
  {
   "cell_type": "markdown",
   "id": "34dd9a74",
   "metadata": {},
   "source": [
    "# Problem 1g"
   ]
  },
  {
   "cell_type": "markdown",
   "id": "c7aabf9b",
   "metadata": {},
   "source": [
    "See report."
   ]
  },
  {
   "cell_type": "code",
   "execution_count": null,
   "id": "6612b6ad",
   "metadata": {},
   "outputs": [],
   "source": []
  }
 ],
 "metadata": {
  "kernelspec": {
   "display_name": "Python 3 (ipykernel)",
   "language": "python",
   "name": "python3"
  },
  "language_info": {
   "codemirror_mode": {
    "name": "ipython",
    "version": 3
   },
   "file_extension": ".py",
   "mimetype": "text/x-python",
   "name": "python",
   "nbconvert_exporter": "python",
   "pygments_lexer": "ipython3",
   "version": "3.8.10"
  }
 },
 "nbformat": 4,
 "nbformat_minor": 5
}
