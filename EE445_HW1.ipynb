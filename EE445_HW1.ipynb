{
 "cells": [
  {
   "cell_type": "markdown",
   "id": "1c046d56",
   "metadata": {},
   "source": [
    "# Import Libraries"
   ]
  },
  {
   "cell_type": "code",
   "execution_count": 1,
   "id": "c5c52d4c-cc81-42b0-bbab-412b778c2eed",
   "metadata": {},
   "outputs": [],
   "source": [
    "import matplotlib.pyplot as plt\n",
    "import pandas as pd\n",
    "import numpy as np\n",
    "from sklearn.linear_model import Perceptron"
   ]
  },
  {
   "cell_type": "markdown",
   "id": "bf8afe5b",
   "metadata": {},
   "source": [
    "# Problem 1a"
   ]
  },
  {
   "cell_type": "code",
   "execution_count": 30,
   "id": "ccac1d59-245d-448d-a7ce-09cefe31c041",
   "metadata": {},
   "outputs": [
    {
     "data": {
      "text/plain": [
       "[<matplotlib.lines.Line2D at 0x7fd9ea98c5b0>]"
      ]
     },
     "execution_count": 30,
     "metadata": {},
     "output_type": "execute_result"
    },
    {
     "data": {
      "image/png": "[encoded data removed]",
      "text/plain": [
       "<Figure size 432x288 with 1 Axes>"
      ]
     },
     "metadata": {
      "needs_background": "light"
     },
     "output_type": "display_data"
    }
   ],
   "source": [
    "# load data\n",
    "df = pd.read_csv(\"20sample_d2.csv\", header = None)\n",
    "X = df.loc[:,0:1] # the columns are unnamed\n",
    "y = df.loc[:,2]\n",
    "\n",
    "# plot data points and their labels\n",
    "plt.plot(X[0][y == 1],X[1][y == 1], 'g^')\n",
    "plt.plot(X[0][y == -1],X[1][y == -1], 'bs')\n",
    "\n",
    "# get xlim\n",
    "axes = plt.gca()\n",
    "line_x = axes.get_xlim()\n",
    "\n",
    "# plot true target function/decision boundary\n",
    "w = [0.1860, 0.2654] # w = [0.1860 0.2654]**T\n",
    "b = 0/w[1]\n",
    "slope = -w[0]/w[1]\n",
    "line_y = [slope * i + b for i in line_x]\n",
    "plt.plot(line_x, line_y)"
   ]
  },
  {
   "cell_type": "code",
   "execution_count": 31,
   "id": "6813fa8b-351b-43c4-9985-8efea4312865",
   "metadata": {},
   "outputs": [
    {
     "name": "stdout",
     "output_type": "stream",
     "text": [
      "Decision Boundary\n",
      "Slope:\t\t -0.7008289374529012\n",
      "Intercept:\t 0\n",
      "---\n",
      "Target Function: [0.186, 0.2654]\n",
      "Bias:\t\t 0\n"
     ]
    }
   ],
   "source": [
    "print(\"Decision Boundary\")\n",
    "print(\"Slope:\\t\\t\", slope)\n",
    "print(\"Intercept:\\t\", b)\n",
    "print(\"---\")\n",
    "print(\"Target Function:\", w)\n",
    "print(\"Bias:\\t\\t\", b)"
   ]
  },
  {
   "cell_type": "markdown",
   "id": "1dc46ce0",
   "metadata": {},
   "source": [
    "# Problem 1b"
   ]
  },
  {
   "cell_type": "code",
   "execution_count": 32,
   "id": "54aeb703",
   "metadata": {},
   "outputs": [
    {
     "name": "stdout",
     "output_type": "stream",
     "text": [
      "Coefficient of Determination of the Prediction:\t 1.0\n"
     ]
    }
   ],
   "source": [
    "# create Perceptron model\n",
    "clf = Perceptron(tol=1e-3, random_state=0)\n",
    "\n",
    "# train model on dataset\n",
    "clf.fit(X, y)\n",
    "\n",
    "# coefficient of determination of the prediction\n",
    "print(\"Coefficient of Determination of the Prediction:\\t\", clf.score(X,y))"
   ]
  },
  {
   "cell_type": "code",
   "execution_count": 33,
   "id": "89b1619e",
   "metadata": {},
   "outputs": [
    {
     "data": {
      "text/plain": [
       "[<matplotlib.lines.Line2D at 0x7fd9ea8e7f70>]"
      ]
     },
     "execution_count": 33,
     "metadata": {},
     "output_type": "execute_result"
    },
    {
     "data": {
      "image/png": "[encoded data removed]",
      "text/plain": [
       "<Figure size 432x288 with 1 Axes>"
      ]
     },
     "metadata": {
      "needs_background": "light"
     },
     "output_type": "display_data"
    }
   ],
   "source": [
    "# plot original dataset\n",
    "plt.plot(X[0][y == 1],X[1][y == 1], 'g^')\n",
    "plt.plot(X[0][y == -1],X[1][y == -1], 'bs')\n",
    "\n",
    "# plot generated target function/decision boundary\n",
    "slope_new = -clf.coef_[0][0] / clf.coef_[0][1]\n",
    "b_new = clf.intercept_[0] / clf.coef_[0][1]\n",
    "line_y_new = [slope_new * i + b_new for i in line_x]\n",
    "plt.plot(line_x, line_y_new)"
   ]
  },
  {
   "cell_type": "code",
   "execution_count": 34,
   "id": "36e091b0-6cf7-496b-8c74-da161d017cfd",
   "metadata": {},
   "outputs": [
    {
     "name": "stdout",
     "output_type": "stream",
     "text": [
      "Slope:\t\t\t -0.6945447348855619\n",
      "Number of Updates:\t 7\n",
      "Target Function:\t [[1.2985  1.86957]]\n",
      "Bias:\t\t\t [0.]\n"
     ]
    }
   ],
   "source": [
    "print(\"Slope:\\t\\t\\t\", slope_new)\n",
    "print(\"Intercept:\\t\\t\", b_new)\n",
    "print(\"Number of Updates:\\t\", clf.n_iter_)\n",
    "print(\"Target Function:\\t\", clf.coef_)\n",
    "print(\"Bias:\\t\\t\\t\", clf.intercept_)"
   ]
  },
  {
   "cell_type": "markdown",
   "id": "39915d67",
   "metadata": {},
   "source": [
    "# Problem 1c"
   ]
  },
  {
   "cell_type": "code",
   "execution_count": 35,
   "id": "babd27ac",
   "metadata": {},
   "outputs": [
    {
     "data": {
      "text/plain": [
       "[<matplotlib.lines.Line2D at 0x7fd9ea8cbd30>]"
      ]
     },
     "execution_count": 35,
     "metadata": {},
     "output_type": "execute_result"
    },
    {
     "data": {
      "image/png": "[encoded data removed]",
      "text/plain": [
       "<Figure size 432x288 with 1 Axes>"
      ]
     },
     "metadata": {
      "needs_background": "light"
     },
     "output_type": "display_data"
    }
   ],
   "source": [
    "# load data\n",
    "df = pd.read_csv(\"2_20sample_d2.csv\", header = None)\n",
    "X = df.loc[:,0:1] # the columns are unnamed\n",
    "y = df.loc[:,2]\n",
    "\n",
    "# plot data points and their labels\n",
    "plt.plot(X[0][y == 1],X[1][y == 1], 'g^')\n",
    "plt.plot(X[0][y == -1],X[1][y == -1], 'bs')\n",
    "\n",
    "axes = plt.gca()\n",
    "line_x = axes.get_xlim()\n",
    "\n",
    "# plot true target function/decision boundary\n",
    "w = [0.1245, 0.9486] # w = [0.1245 0.9486]**T\n",
    "b = 0\n",
    "slope = -w[0]/w[1]\n",
    "line_y = [slope * i + b for i in line_x]\n",
    "plt.plot(line_x, line_y)"
   ]
  },
  {
   "cell_type": "code",
   "execution_count": 36,
   "id": "0269b71a-9709-4997-9d54-efab863dfafb",
   "metadata": {},
   "outputs": [
    {
     "name": "stdout",
     "output_type": "stream",
     "text": [
      "Decision Boundary\n",
      "Slope:\t\t -0.1312460468058191\n",
      "Intercept:\t 0\n",
      "---\n",
      "Target Function: [0.1245, 0.9486]\n",
      "Bias:\t\t 0\n"
     ]
    }
   ],
   "source": [
    "print(\"Decision Boundary\")\n",
    "print(\"Slope:\\t\\t\", slope)\n",
    "print(\"Intercept:\\t\", b)\n",
    "print(\"---\")\n",
    "print(\"Target Function:\", w)\n",
    "print(\"Bias:\\t\\t\", b)"
   ]
  },
  {
   "cell_type": "code",
   "execution_count": 43,
   "id": "0b33d190",
   "metadata": {},
   "outputs": [
    {
     "name": "stdout",
     "output_type": "stream",
     "text": [
      "Coefficient of Determination of the Prediction:\t 1.0\n"
     ]
    }
   ],
   "source": [
    "# create Perceptron model\n",
    "clf = Perceptron(tol=1e-3, random_state=0)\n",
    "\n",
    "# train model on dataset\n",
    "clf.fit(X, y)\n",
    "\n",
    "# coefficient of determination of the prediction\n",
    "print(\"Coefficient of Determination of the Prediction:\\t\", clf.score(X,y))"
   ]
  },
  {
   "cell_type": "code",
   "execution_count": 50,
   "id": "6621e537",
   "metadata": {},
   "outputs": [
    {
     "data": {
      "text/plain": [
       "[<matplotlib.lines.Line2D at 0x7fd9e9b826a0>]"
      ]
     },
     "execution_count": 50,
     "metadata": {},
     "output_type": "execute_result"
    },
    {
     "data": {
      "image/png": "[encoded data removed]",
      "text/plain": [
       "<Figure size 432x288 with 1 Axes>"
      ]
     },
     "metadata": {
      "needs_background": "light"
     },
     "output_type": "display_data"
    }
   ],
   "source": [
    "# plot original dataset\n",
    "plt.plot(X[0][y == 1],X[1][y == 1], 'g^')\n",
    "plt.plot(X[0][y == -1],X[1][y == -1], 'bs')\n",
    "\n",
    "# plot generated target function/decision boundary\n",
    "slope_new = -clf.coef_[0][0] / clf.coef_[0][1]\n",
    "b_new = clf.intercept_[0] / clf.coef_[0][1]\n",
    "line_y_new = [slope_new * i + b_new for i in line_x]\n",
    "plt.plot(line_x, line_y_new)"
   ]
  },
  {
   "cell_type": "code",
   "execution_count": 53,
   "id": "ecb26b57",
   "metadata": {},
   "outputs": [
    {
     "name": "stdout",
     "output_type": "stream",
     "text": [
      "Slope:\t\t\t -0.08537160839102789\n",
      "Intercept:\t\t 0.2767671931239959\n",
      "Number of Updates:\t 9\n",
      "Target Function:\t [[0.61692 7.22629]]\n",
      "Bias:\t\t\t [2.]\n"
     ]
    }
   ],
   "source": [
    "print(\"Slope:\\t\\t\\t\", slope_new)\n",
    "print(\"Intercept:\\t\\t\", b_new)\n",
    "print(\"Number of Updates:\\t\", clf.n_iter_)\n",
    "print(\"Target Function:\\t\", clf.coef_)\n",
    "print(\"Bias:\\t\\t\\t\", clf.intercept_)"
   ]
  },
  {
   "cell_type": "markdown",
   "id": "e4745a6a",
   "metadata": {},
   "source": [
    "# Problem 1d"
   ]
  },
  {
   "cell_type": "code",
   "execution_count": 54,
   "id": "d42093f0",
   "metadata": {},
   "outputs": [
    {
     "data": {
      "text/plain": [
       "(-332.17199999999997, 303.67199999999997)"
      ]
     },
     "execution_count": 54,
     "metadata": {},
     "output_type": "execute_result"
    },
    {
     "data": {
      "image/png": "[encoded data removed]",
      "text/plain": [
       "<Figure size 432x288 with 1 Axes>"
      ]
     },
     "metadata": {
      "needs_background": "light"
     },
     "output_type": "display_data"
    }
   ],
   "source": [
    "# load data\n",
    "df = pd.read_csv(\"1000sample_d2.csv\", header = None)\n",
    "X = df.loc[:,0:1] # the columns are unnamed\n",
    "y = df.loc[:,2]\n",
    "\n",
    "# plot data points and their labels\n",
    "plt.plot(X[0][y == 1],X[1][y == 1], 'g^')\n",
    "plt.plot(X[0][y == -1],X[1][y == -1], 'bs')\n",
    "\n",
    "axes = plt.gca()\n",
    "line_x = axes.get_xlim()\n",
    "y_lim = axes.get_ylim()\n",
    "\n",
    "# plot true target function/decision boundary\n",
    "w = [-0.9469, -0.1828]\n",
    "b = 0\n",
    "slope = -w[0]/w[1]\n",
    "line_y = [slope * i + b for i in line_x]\n",
    "plt.plot(line_x, line_y)\n",
    "axes.set_ylim(y_lim)"
   ]
  },
  {
   "cell_type": "code",
   "execution_count": 55,
   "id": "c259fe87-0032-489c-91ee-24853a80c281",
   "metadata": {},
   "outputs": [
    {
     "name": "stdout",
     "output_type": "stream",
     "text": [
      "Decision Boundary\n",
      "Slope:\t\t -5.179978118161926\n",
      "Intercept:\t 0\n",
      "---\n",
      "Target Function: [-0.9469, -0.1828]\n",
      "Bias:\t\t 0\n"
     ]
    }
   ],
   "source": [
    "print(\"Decision Boundary\")\n",
    "print(\"Slope:\\t\\t\", slope)\n",
    "print(\"Intercept:\\t\", b)\n",
    "print(\"---\")\n",
    "print(\"Target Function:\", w)\n",
    "print(\"Bias:\\t\\t\", b)"
   ]
  },
  {
   "cell_type": "code",
   "execution_count": 56,
   "id": "6a3d0abb",
   "metadata": {},
   "outputs": [
    {
     "name": "stdout",
     "output_type": "stream",
     "text": [
      "Coefficient of Determination of the Prediction:\t 0.99\n"
     ]
    }
   ],
   "source": [
    "# create Perceptron model\n",
    "clf = Perceptron(tol=1e-3, random_state=0)\n",
    "\n",
    "# train model on dataset\n",
    "clf.fit(X, y)\n",
    "\n",
    "# coefficient of determination of the prediction\n",
    "print(\"Coefficient of Determination of the Prediction:\\t\", clf.score(X,y))"
   ]
  },
  {
   "cell_type": "code",
   "execution_count": 59,
   "id": "a8d93de5",
   "metadata": {},
   "outputs": [
    {
     "data": {
      "text/plain": [
       "(-332.17199999999997, 303.67199999999997)"
      ]
     },
     "execution_count": 59,
     "metadata": {},
     "output_type": "execute_result"
    },
    {
     "data": {
      "image/png": "[encoded data removed]",
      "text/plain": [
       "<Figure size 432x288 with 1 Axes>"
      ]
     },
     "metadata": {
      "needs_background": "light"
     },
     "output_type": "display_data"
    }
   ],
   "source": [
    "# plot original dataset\n",
    "plt.plot(X[0][y == 1],X[1][y == 1], 'g^')\n",
    "plt.plot(X[0][y == -1],X[1][y == -1], 'bs')\n",
    "\n",
    "axes = plt.gca()\n",
    "\n",
    "# plot generated target function/decision boundary\n",
    "slope_new = -clf.coef_[0][0] / clf.coef_[0][1]\n",
    "b_new = clf.intercept_[0] / clf.coef_[0][1]\n",
    "line_y_new = [slope_new * i + b_new for i in line_x]\n",
    "plt.plot(line_x, line_y_new)\n",
    "axes.set_ylim(y_lim)"
   ]
  },
  {
   "cell_type": "code",
   "execution_count": 60,
   "id": "d3dc04b1",
   "metadata": {},
   "outputs": [
    {
     "name": "stdout",
     "output_type": "stream",
     "text": [
      "Slope:\t\t\t -7.065073135188623\n",
      "Intercept:\t\t -0.02175024197144192\n",
      "Number of Updates:\t 16\n",
      "Target Function:\t [[-1299.30934  -183.906  ]]\n",
      "Bias:\t\t\t [4.]\n"
     ]
    }
   ],
   "source": [
    "print(\"Slope:\\t\\t\\t\", slope_new)\n",
    "print(\"Intercept:\\t\\t\", b_new)\n",
    "print(\"Number of Updates:\\t\", clf.n_iter_)\n",
    "print(\"Target Function:\\t\", clf.coef_)\n",
    "print(\"Bias:\\t\\t\\t\", clf.intercept_)"
   ]
  },
  {
   "cell_type": "markdown",
   "id": "519e4125",
   "metadata": {},
   "source": [
    "# Problem 1e"
   ]
  },
  {
   "cell_type": "code",
   "execution_count": 82,
   "id": "c37fac59",
   "metadata": {},
   "outputs": [],
   "source": [
    "# load data\n",
    "df = pd.read_csv(\"1000sample_d10.csv\", header = None)\n",
    "X = df.loc[:,0:9] # the columns are unnamed\n",
    "y = df.loc[:,10]"
   ]
  },
  {
   "cell_type": "code",
   "execution_count": 87,
   "id": "9acebd52",
   "metadata": {},
   "outputs": [
    {
     "name": "stdout",
     "output_type": "stream",
     "text": [
      "Coefficient of Determination of the Prediction:\t 0.977\n"
     ]
    }
   ],
   "source": [
    "# create Perceptron model\n",
    "clf = Perceptron(tol=1e-3, random_state=0)\n",
    "\n",
    "# train model on dataset\n",
    "clf.fit(X, y)\n",
    "\n",
    "# coefficient of determination of the prediction\n",
    "print(\"Coefficient of Determination of the Prediction:\\t\", clf.score(X,y))"
   ]
  },
  {
   "cell_type": "code",
   "execution_count": 88,
   "id": "b857a2c7",
   "metadata": {},
   "outputs": [
    {
     "name": "stdout",
     "output_type": "stream",
     "text": [
      "Number of Updates:\t 24\n",
      "Target Function:\t [[ 25.13692073  29.116954   115.4927033   22.130051   120.040915\n",
      "  -50.300309   -39.9160587   30.469952     0.4267497   -0.844576  ]]\n",
      "Bias:\t\t\t [3.]\n"
     ]
    }
   ],
   "source": [
    "print(\"Number of Updates:\\t\", clf.n_iter_)\n",
    "print(\"Target Function:\\t\", clf.coef_)\n",
    "print(\"Bias:\\t\\t\\t\", clf.intercept_)"
   ]
  },
  {
   "cell_type": "markdown",
   "id": "b54a7acb",
   "metadata": {},
   "source": [
    "# Problem 1f"
   ]
  },
  {
   "cell_type": "code",
   "execution_count": 81,
   "id": "4c346ffb",
   "metadata": {},
   "outputs": [
    {
     "data": {
      "image/png": "[encoded data removed]",
      "text/plain": [
       "<Figure size 432x288 with 1 Axes>"
      ]
     },
     "metadata": {
      "needs_background": "light"
     },
     "output_type": "display_data"
    }
   ],
   "source": [
    "histogram = []\n",
    "for i in range(100):\n",
    "    # create Perceptron model\n",
    "    clf = Perceptron(tol=1e-3, random_state=i)\n",
    "\n",
    "    # train model on dataset\n",
    "    clf.fit(X, y)\n",
    "\n",
    "    histogram.append(clf.n_iter_)\n",
    "\n",
    "hist, bins = np.histogram(histogram)\n",
    "width = 0.7 * (bins[1] - bins[0])\n",
    "center = (bins[:-1] + bins[1:]) / 2\n",
    "_ = plt.bar(center, hist, align='center', width=width)\n",
    "plt.show()"
   ]
  },
  {
   "cell_type": "markdown",
   "id": "34dd9a74",
   "metadata": {},
   "source": [
    "# Problem 1g"
   ]
  },
  {
   "cell_type": "markdown",
   "id": "c7aabf9b",
   "metadata": {},
   "source": [
    "See report."
   ]
  },
  {
   "cell_type": "code",
   "execution_count": null,
   "id": "6612b6ad",
   "metadata": {},
   "outputs": [],
   "source": [
    "# misc\n",
    "w = np.array([[0.1860, 0.2654]])\n",
    "np_df = X.to_numpy()\n",
    "\n",
    "print(np.shape(w))\n",
    "print(np.shape(np_df))\n",
    "print(np_df[0])\n",
    "res = []\n",
    "for i in range(len(np_df)):\n",
    "    res.append(np.matmul(w, np_df[i]))\n",
    "\n",
    "res = pd.DataFrame(np.array(res)).loc[:,0]\n",
    "plt.plot(X[0][res >= 0],X[1][res >= 0], 'g^')\n",
    "plt.plot(X[0][res < 0],X[1][res < 0], 'bs')"
   ]
  }
 ],
 "metadata": {
  "kernelspec": {
   "display_name": "Python 3 (ipykernel)",
   "language": "python",
   "name": "python3"
  },
  "language_info": {
   "codemirror_mode": {
    "name": "ipython",
    "version": 3
   },
   "file_extension": ".py",
   "mimetype": "text/x-python",
   "name": "python",
   "nbconvert_exporter": "python",
   "pygments_lexer": "ipython3",
   "version": "3.8.10"
  }
 },
 "nbformat": 4,
 "nbformat_minor": 5
}
